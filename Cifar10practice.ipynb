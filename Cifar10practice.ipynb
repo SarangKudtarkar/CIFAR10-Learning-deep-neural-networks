{
  "nbformat": 4,
  "nbformat_minor": 0,
  "metadata": {
    "colab": {
      "name": "Cifar10practice.ipynb",
      "provenance": [],
      "collapsed_sections": []
    },
    "kernelspec": {
      "name": "python3",
      "display_name": "Python 3"
    },
    "widgets": {
      "application/vnd.jupyter.widget-state+json": {
        "31b20e84ccc644b0a255f9827275cad2": {
          "model_module": "@jupyter-widgets/controls",
          "model_name": "HBoxModel",
          "state": {
            "_view_name": "HBoxView",
            "_dom_classes": [],
            "_model_name": "HBoxModel",
            "_view_module": "@jupyter-widgets/controls",
            "_model_module_version": "1.5.0",
            "_view_count": null,
            "_view_module_version": "1.5.0",
            "box_style": "",
            "layout": "IPY_MODEL_15db39b80d814cce9d9078010a16b224",
            "_model_module": "@jupyter-widgets/controls",
            "children": [
              "IPY_MODEL_4c218366e0c64b639455b778a213e55e",
              "IPY_MODEL_1e7f7af29d9c4f59b88781f4a2b05fae"
            ]
          }
        },
        "15db39b80d814cce9d9078010a16b224": {
          "model_module": "@jupyter-widgets/base",
          "model_name": "LayoutModel",
          "state": {
            "_view_name": "LayoutView",
            "grid_template_rows": null,
            "right": null,
            "justify_content": null,
            "_view_module": "@jupyter-widgets/base",
            "overflow": null,
            "_model_module_version": "1.2.0",
            "_view_count": null,
            "flex_flow": null,
            "width": null,
            "min_width": null,
            "border": null,
            "align_items": null,
            "bottom": null,
            "_model_module": "@jupyter-widgets/base",
            "top": null,
            "grid_column": null,
            "overflow_y": null,
            "overflow_x": null,
            "grid_auto_flow": null,
            "grid_area": null,
            "grid_template_columns": null,
            "flex": null,
            "_model_name": "LayoutModel",
            "justify_items": null,
            "grid_row": null,
            "max_height": null,
            "align_content": null,
            "visibility": null,
            "align_self": null,
            "height": null,
            "min_height": null,
            "padding": null,
            "grid_auto_rows": null,
            "grid_gap": null,
            "max_width": null,
            "order": null,
            "_view_module_version": "1.2.0",
            "grid_template_areas": null,
            "object_position": null,
            "object_fit": null,
            "grid_auto_columns": null,
            "margin": null,
            "display": null,
            "left": null
          }
        },
        "4c218366e0c64b639455b778a213e55e": {
          "model_module": "@jupyter-widgets/controls",
          "model_name": "IntProgressModel",
          "state": {
            "_view_name": "ProgressView",
            "style": "IPY_MODEL_6d3e6ff56b4c412fa3a4917e56d5840b",
            "_dom_classes": [],
            "description": "",
            "_model_name": "IntProgressModel",
            "bar_style": "info",
            "max": 1,
            "_view_module": "@jupyter-widgets/controls",
            "_model_module_version": "1.5.0",
            "value": 1,
            "_view_count": null,
            "_view_module_version": "1.5.0",
            "orientation": "horizontal",
            "min": 0,
            "description_tooltip": null,
            "_model_module": "@jupyter-widgets/controls",
            "layout": "IPY_MODEL_56e8439b63b64a56839eab0c8fee5b7b"
          }
        },
        "1e7f7af29d9c4f59b88781f4a2b05fae": {
          "model_module": "@jupyter-widgets/controls",
          "model_name": "HTMLModel",
          "state": {
            "_view_name": "HTMLView",
            "style": "IPY_MODEL_fde167f4e2ef4654b2db6924477e1e3c",
            "_dom_classes": [],
            "description": "",
            "_model_name": "HTMLModel",
            "placeholder": "​",
            "_view_module": "@jupyter-widgets/controls",
            "_model_module_version": "1.5.0",
            "value": " 170500096/? [00:20&lt;00:00, 46017459.02it/s]",
            "_view_count": null,
            "_view_module_version": "1.5.0",
            "description_tooltip": null,
            "_model_module": "@jupyter-widgets/controls",
            "layout": "IPY_MODEL_58e056cd11244fcba2a31d08e81d7704"
          }
        },
        "6d3e6ff56b4c412fa3a4917e56d5840b": {
          "model_module": "@jupyter-widgets/controls",
          "model_name": "ProgressStyleModel",
          "state": {
            "_view_name": "StyleView",
            "_model_name": "ProgressStyleModel",
            "description_width": "initial",
            "_view_module": "@jupyter-widgets/base",
            "_model_module_version": "1.5.0",
            "_view_count": null,
            "_view_module_version": "1.2.0",
            "bar_color": null,
            "_model_module": "@jupyter-widgets/controls"
          }
        },
        "56e8439b63b64a56839eab0c8fee5b7b": {
          "model_module": "@jupyter-widgets/base",
          "model_name": "LayoutModel",
          "state": {
            "_view_name": "LayoutView",
            "grid_template_rows": null,
            "right": null,
            "justify_content": null,
            "_view_module": "@jupyter-widgets/base",
            "overflow": null,
            "_model_module_version": "1.2.0",
            "_view_count": null,
            "flex_flow": null,
            "width": null,
            "min_width": null,
            "border": null,
            "align_items": null,
            "bottom": null,
            "_model_module": "@jupyter-widgets/base",
            "top": null,
            "grid_column": null,
            "overflow_y": null,
            "overflow_x": null,
            "grid_auto_flow": null,
            "grid_area": null,
            "grid_template_columns": null,
            "flex": null,
            "_model_name": "LayoutModel",
            "justify_items": null,
            "grid_row": null,
            "max_height": null,
            "align_content": null,
            "visibility": null,
            "align_self": null,
            "height": null,
            "min_height": null,
            "padding": null,
            "grid_auto_rows": null,
            "grid_gap": null,
            "max_width": null,
            "order": null,
            "_view_module_version": "1.2.0",
            "grid_template_areas": null,
            "object_position": null,
            "object_fit": null,
            "grid_auto_columns": null,
            "margin": null,
            "display": null,
            "left": null
          }
        },
        "fde167f4e2ef4654b2db6924477e1e3c": {
          "model_module": "@jupyter-widgets/controls",
          "model_name": "DescriptionStyleModel",
          "state": {
            "_view_name": "StyleView",
            "_model_name": "DescriptionStyleModel",
            "description_width": "",
            "_view_module": "@jupyter-widgets/base",
            "_model_module_version": "1.5.0",
            "_view_count": null,
            "_view_module_version": "1.2.0",
            "_model_module": "@jupyter-widgets/controls"
          }
        },
        "58e056cd11244fcba2a31d08e81d7704": {
          "model_module": "@jupyter-widgets/base",
          "model_name": "LayoutModel",
          "state": {
            "_view_name": "LayoutView",
            "grid_template_rows": null,
            "right": null,
            "justify_content": null,
            "_view_module": "@jupyter-widgets/base",
            "overflow": null,
            "_model_module_version": "1.2.0",
            "_view_count": null,
            "flex_flow": null,
            "width": null,
            "min_width": null,
            "border": null,
            "align_items": null,
            "bottom": null,
            "_model_module": "@jupyter-widgets/base",
            "top": null,
            "grid_column": null,
            "overflow_y": null,
            "overflow_x": null,
            "grid_auto_flow": null,
            "grid_area": null,
            "grid_template_columns": null,
            "flex": null,
            "_model_name": "LayoutModel",
            "justify_items": null,
            "grid_row": null,
            "max_height": null,
            "align_content": null,
            "visibility": null,
            "align_self": null,
            "height": null,
            "min_height": null,
            "padding": null,
            "grid_auto_rows": null,
            "grid_gap": null,
            "max_width": null,
            "order": null,
            "_view_module_version": "1.2.0",
            "grid_template_areas": null,
            "object_position": null,
            "object_fit": null,
            "grid_auto_columns": null,
            "margin": null,
            "display": null,
            "left": null
          }
        }
      }
    }
  },
  "cells": [
    {
      "cell_type": "markdown",
      "metadata": {
        "id": "xY-kgNHYUFMu",
        "colab_type": "text"
      },
      "source": [
        "**CIFAR 10 dataset analysis using deep neural networks**\n",
        "\n",
        "The CIFAR-10 dataset consists of 60000 32x32 colour images in 10 classes, with 6000 images per class.\n",
        "There are 50000 training images and 10000 test images.\n",
        "The dataset is divided into five training batches and one test batch, each with 10000 images."
      ]
    },
    {
      "cell_type": "code",
      "metadata": {
        "id": "P4JSVifjULQH",
        "colab_type": "code",
        "colab": {}
      },
      "source": [
        "import torch\n",
        "from torchvision import datasets,transforms\n",
        "#Normalize data\n",
        "transform=transforms.Compose([transforms.ToTensor(),transforms.Normalize((0.5,),(0.5,))])\n"
      ],
      "execution_count": 0,
      "outputs": []
    },
    {
      "cell_type": "code",
      "metadata": {
        "id": "e7QfnGjmVQdn",
        "colab_type": "code",
        "outputId": "23a9520e-fbbe-446b-a719-3fb945da6f36",
        "colab": {
          "base_uri": "https://localhost:8080/",
          "height": 100,
          "referenced_widgets": [
            "31b20e84ccc644b0a255f9827275cad2",
            "15db39b80d814cce9d9078010a16b224",
            "4c218366e0c64b639455b778a213e55e",
            "1e7f7af29d9c4f59b88781f4a2b05fae",
            "6d3e6ff56b4c412fa3a4917e56d5840b",
            "56e8439b63b64a56839eab0c8fee5b7b",
            "fde167f4e2ef4654b2db6924477e1e3c",
            "58e056cd11244fcba2a31d08e81d7704"
          ]
        }
      },
      "source": [
        "#now we import training data\n",
        "trainset=datasets.CIFAR10('~/.pytorch/CIFAR10_data/',download=True,train=True,transform=transform)\n",
        "trainloader=torch.utils.data.DataLoader(trainset,batch_size=64,shuffle=True)\n",
        "testset=datasets.CIFAR10('~/.pytorch/CIFAR10_data/',download=True,train=False,transform=transform)\n",
        "testloader=torch.utils.data.DataLoader(testset,batch_size=64,shuffle=True)"
      ],
      "execution_count": 2,
      "outputs": [
        {
          "output_type": "stream",
          "text": [
            "Downloading https://www.cs.toronto.edu/~kriz/cifar-10-python.tar.gz to /root/.pytorch/CIFAR10_data/cifar-10-python.tar.gz\n"
          ],
          "name": "stdout"
        },
        {
          "output_type": "display_data",
          "data": {
            "application/vnd.jupyter.widget-view+json": {
              "model_id": "31b20e84ccc644b0a255f9827275cad2",
              "version_minor": 0,
              "version_major": 2
            },
            "text/plain": [
              "HBox(children=(IntProgress(value=1, bar_style='info', max=1), HTML(value='')))"
            ]
          },
          "metadata": {
            "tags": []
          }
        },
        {
          "output_type": "stream",
          "text": [
            "Extracting /root/.pytorch/CIFAR10_data/cifar-10-python.tar.gz to /root/.pytorch/CIFAR10_data/\n",
            "Files already downloaded and verified\n"
          ],
          "name": "stdout"
        }
      ]
    },
    {
      "cell_type": "code",
      "metadata": {
        "id": "fTP8qOU2WhwB",
        "colab_type": "code",
        "colab": {}
      },
      "source": [
        "#helper code for displaying images\n",
        "import matplotlib.pyplot as plt\n",
        "import numpy as np\n",
        "from torch import nn, optim\n",
        "from torch.autograd import Variable\n",
        "\n",
        "\n",
        "def test_network(net, trainloader):\n",
        "\n",
        "    criterion = nn.MSELoss()\n",
        "    optimizer = optim.Adam(net.parameters(), lr=0.001)\n",
        "\n",
        "    dataiter = iter(trainloader)\n",
        "    images, labels = dataiter.next()\n",
        "\n",
        "    # Create Variables for the inputs and targets\n",
        "    inputs = Variable(images)\n",
        "    targets = Variable(images)\n",
        "\n",
        "    # Clear the gradients from all Variables\n",
        "    optimizer.zero_grad()\n",
        "\n",
        "    # Forward pass, then backward pass, then update weights\n",
        "    output = net.forward(inputs)\n",
        "    loss = criterion(output, targets)\n",
        "    loss.backward()\n",
        "    optimizer.step()\n",
        "\n",
        "    return True\n",
        "\n",
        "\n",
        "def imshow(image, ax=None, title=None, normalize=True):\n",
        "    \"\"\"Imshow for Tensor.\"\"\"\n",
        "    if ax is None:\n",
        "        fig, ax = plt.subplots()\n",
        "    image = image.numpy().transpose((1, 2, 0))\n",
        "\n",
        "    if normalize:\n",
        "        mean = np.array([0.485, 0.456, 0.406])\n",
        "        std = np.array([0.229, 0.224, 0.225])\n",
        "        image = std * image + mean\n",
        "        image = np.clip(image, 0, 1)\n",
        "\n",
        "    ax.imshow(image)\n",
        "    ax.spines['top'].set_visible(False)\n",
        "    ax.spines['right'].set_visible(False)\n",
        "    ax.spines['left'].set_visible(False)\n",
        "    ax.spines['bottom'].set_visible(False)\n",
        "    ax.tick_params(axis='both', length=0)\n",
        "    ax.set_xticklabels('')\n",
        "    ax.set_yticklabels('')\n",
        "\n",
        "    return ax\n",
        "\n",
        "\n",
        "def view_recon(img, recon):\n",
        "    ''' Function for displaying an image (as a PyTorch Tensor) and its\n",
        "        reconstruction also a PyTorch Tensor\n",
        "    '''\n",
        "\n",
        "    fig, axes = plt.subplots(ncols=2, sharex=True, sharey=True)\n",
        "    axes[0].imshow(img.numpy().squeeze())\n",
        "    axes[1].imshow(recon.data.numpy().squeeze())\n",
        "    for ax in axes:\n",
        "        ax.axis('off')\n",
        "        ax.set_adjustable('box-forced')\n",
        "\n",
        "def view_classify(img, ps, version=\"CIFAR10\"):\n",
        "    ''' Function for viewing an image and it's predicted classes.\n",
        "    '''\n",
        "    ps = ps.data.numpy().squeeze()\n",
        "\n",
        "    fig, (ax1, ax2) = plt.subplots(figsize=(6,9), ncols=2)\n",
        "    ax1.imshow(img.resize_(1, 28, 28).numpy().squeeze())\n",
        "    ax1.axis('off')\n",
        "    ax2.barh(np.arange(10), ps)\n",
        "    ax2.set_aspect(0.1)\n",
        "    ax2.set_yticks(np.arange(10))\n",
        "    if version == \"MNIST\":\n",
        "        ax2.set_yticklabels(np.arange(10))\n",
        "    elif version == \"CIFAR10\":\n",
        "        ax2.set_yticklabels(['airplane',\n",
        "'automobile'\n",
        ",'bird'\n",
        ",'cat'\n",
        ",'deer'\n",
        ",'dog'\n",
        ",'frog'\n",
        ",'horse'\n",
        ",'ship'\n",
        ",'truck'], size='small');\n",
        "    ax2.set_title('Class Probability')\n",
        "    ax2.set_xlim(0, 1.1)\n",
        "\n",
        "    plt.tight_layout()"
      ],
      "execution_count": 0,
      "outputs": []
    },
    {
      "cell_type": "code",
      "metadata": {
        "id": "6xw6BOCwWWYO",
        "colab_type": "code",
        "outputId": "818eee9f-abc0-4d58-ead2-fa57d03cf9b7",
        "colab": {
          "base_uri": "https://localhost:8080/",
          "height": 248
        }
      },
      "source": [
        "#check images\n",
        "image,label=next(iter(trainloader));\n",
        "\n",
        "imshow(image[0,:]);"
      ],
      "execution_count": 49,
      "outputs": [
        {
          "output_type": "display_data",
          "data": {
            "image/png": "[encoded data removed]",
            "text/plain": [
              "<Figure size 432x288 with 1 Axes>"
            ]
          },
          "metadata": {
            "tags": [],
            "needs_background": "light"
          }
        }
      ]
    },
    {
      "cell_type": "markdown",
      "metadata": {
        "id": "ZZkXkTnlYQBr",
        "colab_type": "text"
      },
      "source": [
        "The CIFAR-10 dataset consists of 60000 32x32 colour images in 10 classes, with 6000 images per class. There are 50000 training images and 10000 test images. The dataset is divided into five training batches and one test batch, each with 10000 images."
      ]
    },
    {
      "cell_type": "code",
      "metadata": {
        "id": "OiAgZo5wYHOw",
        "colab_type": "code",
        "colab": {}
      },
      "source": [
        "#Define model\n",
        "from torch import nn,optim\n",
        "import torch.nn.functional as F\n",
        "class Classifier(nn.Module):\n",
        "  def __init__(self):\n",
        "    super().__init__()\n",
        "    self.fc1=nn.Linear(3072,256)\n",
        "    self.fc2=nn.Linear(256,128)\n",
        "    self.fc3=nn.Linear(128,64)\n",
        "    self.fc4=nn.Linear(64,10)\n",
        "  def forward(self,x):\n",
        "    x=x.view(x.shape[0],-1)\n",
        "    x=F.relu(self.fc1(x))\n",
        "    x=F.relu(self.fc2(x))\n",
        "    x=F.relu(self.fc3(x))\n",
        "    x=F.log_softmax(self.fc4(x),dim=1)\n",
        "    return x\n"
      ],
      "execution_count": 0,
      "outputs": []
    },
    {
      "cell_type": "code",
      "metadata": {
        "id": "Lzlm9myAZaGk",
        "colab_type": "code",
        "colab": {}
      },
      "source": [
        "criterion=nn.CrossEntropyLoss()\n",
        "model=Classifier()\n",
        "images,labels=next(iter(trainloader))\n",
        "images=images.view(images.shape[0],-1)\n",
        "logits=model(images)\n",
        "loss=criterion(logits,labels)\n"
      ],
      "execution_count": 0,
      "outputs": []
    },
    {
      "cell_type": "code",
      "metadata": {
        "id": "fAe13mvd9zly",
        "colab_type": "code",
        "colab": {
          "base_uri": "https://localhost:8080/",
          "height": 34
        },
        "outputId": "23f59248-2f48-46e1-a533-662df54e0352"
      },
      "source": [
        "print(loss)\n",
        "optimizer=optim.Adam(model.parameters(),lr=0.005)\n",
        "train_losses,test_losses=[],[]"
      ],
      "execution_count": 28,
      "outputs": [
        {
          "output_type": "stream",
          "text": [
            "tensor(1.4430, grad_fn=<NllLossBackward>)\n"
          ],
          "name": "stdout"
        }
      ]
    },
    {
      "cell_type": "code",
      "metadata": {
        "id": "JcIroUDu-D52",
        "colab_type": "code",
        "colab": {
          "base_uri": "https://localhost:8080/",
          "height": 357
        },
        "outputId": "e15a2e6a-008e-4211-dc7e-2b04d46617ec"
      },
      "source": [
        "epochs=20\n",
        "steps=0\n",
        "for e in range(epochs):\n",
        "  running_loss=0\n",
        "  for images,labels in trainloader:\n",
        "    optimizer.zero_grad()\n",
        "    log_ps=model(images)\n",
        "    loss=criterion(log_ps,labels)\n",
        "    loss.backward()\n",
        "    optimizer.step()\n",
        "\n",
        "    running_loss+=loss.item()\n",
        "  else:\n",
        "    test_loss=0\n",
        "    accuracy=0\n",
        "\n",
        "    with torch.no_grad():\n",
        "      for images,labels in testloader:\n",
        "        log_ps=model(images)\n",
        "        test_loss+=criterion(log_ps,labels)\n",
        "        ps=torch.exp(log_ps)\n",
        "        top_p,top_class=ps.topk(1,dim=1)\n",
        "        equals=top_class==labels.view(*top_class.shape)\n",
        "        accuracy+=torch.mean(equals.type(torch.FloatTensor))\n",
        "    train_losses.append(running_loss/len(trainloader))\n",
        "    test_losses.append(test_loss/len(testloader))\n",
        "    print(\"Epoch: {}/{} ..\".format(e+1,epochs),\"training_loss: {:.3f}\".format(running_loss/len(trainloader)),\"test_loss: {:.3f}\".format(test_loss/len(testloader)),\"test_accuracy: {:.3f}\".format(accuracy/len(testloader)))\n",
        "    "
      ],
      "execution_count": 66,
      "outputs": [
        {
          "output_type": "stream",
          "text": [
            "Epoch: 1/20 .. training_loss: 1.129 test_loss: 1.618 test_accuracy: 0.481\n",
            "Epoch: 2/20 .. training_loss: 1.113 test_loss: 1.592 test_accuracy: 0.495\n",
            "Epoch: 3/20 .. training_loss: 1.094 test_loss: 1.638 test_accuracy: 0.484\n",
            "Epoch: 4/20 .. training_loss: 1.071 test_loss: 1.614 test_accuracy: 0.501\n",
            "Epoch: 5/20 .. training_loss: 1.035 test_loss: 1.646 test_accuracy: 0.499\n",
            "Epoch: 6/20 .. training_loss: 1.055 test_loss: 1.716 test_accuracy: 0.496\n",
            "Epoch: 7/20 .. training_loss: 1.020 test_loss: 1.654 test_accuracy: 0.508\n",
            "Epoch: 8/20 .. training_loss: 1.017 test_loss: 1.606 test_accuracy: 0.508\n",
            "Epoch: 9/20 .. training_loss: 0.994 test_loss: 1.694 test_accuracy: 0.494\n",
            "Epoch: 10/20 .. training_loss: 0.992 test_loss: 1.638 test_accuracy: 0.507\n",
            "Epoch: 11/20 .. training_loss: 0.956 test_loss: 1.704 test_accuracy: 0.499\n",
            "Epoch: 12/20 .. training_loss: 0.937 test_loss: 1.794 test_accuracy: 0.504\n",
            "Epoch: 13/20 .. training_loss: 0.933 test_loss: 1.703 test_accuracy: 0.501\n",
            "Epoch: 14/20 .. training_loss: 0.929 test_loss: 1.700 test_accuracy: 0.506\n",
            "Epoch: 15/20 .. training_loss: 0.908 test_loss: 1.803 test_accuracy: 0.504\n",
            "Epoch: 16/20 .. training_loss: 0.895 test_loss: 1.840 test_accuracy: 0.485\n",
            "Epoch: 17/20 .. training_loss: 0.886 test_loss: 1.835 test_accuracy: 0.505\n",
            "Epoch: 18/20 .. training_loss: 0.891 test_loss: 1.757 test_accuracy: 0.498\n",
            "Epoch: 19/20 .. training_loss: 0.862 test_loss: 1.834 test_accuracy: 0.505\n",
            "Epoch: 20/20 .. training_loss: 0.872 test_loss: 1.861 test_accuracy: 0.502\n"
          ],
          "name": "stdout"
        }
      ]
    },
    {
      "cell_type": "code",
      "metadata": {
        "id": "6IeYa5V9CztF",
        "colab_type": "code",
        "colab": {
          "base_uri": "https://localhost:8080/",
          "height": 282
        },
        "outputId": "b654db56-5b2a-441f-c929-624db8b8bca7"
      },
      "source": [
        "%matplotlib inline \n",
        "%config Inline.Backend.figure_format='retina'\n",
        "import matplotlib.pyplot as plt\n",
        "plt.plot(train_losses,label='Training loss');\n",
        "plt.plot(test_losses,label='Test loss');\n",
        "plt.legend(frameon=False)\n"
      ],
      "execution_count": 67,
      "outputs": [
        {
          "output_type": "execute_result",
          "data": {
            "text/plain": [
              "<matplotlib.legend.Legend at 0x7f48273bf9b0>"
            ]
          },
          "metadata": {
            "tags": []
          },
          "execution_count": 67
        },
        {
          "output_type": "display_data",
          "data": {
            "image/png": "[encoded data removed]",
            "text/plain": [
              "<Figure size 432x288 with 1 Axes>"
            ]
          },
          "metadata": {
            "tags": [],
            "needs_background": "light"
          }
        }
      ]
    },
    {
      "cell_type": "code",
      "metadata": {
        "id": "hONcKXz1Eclo",
        "colab_type": "code",
        "colab": {
          "base_uri": "https://localhost:8080/",
          "height": 481
        },
        "outputId": "d5fcf34b-20d8-4d72-8926-40144929376b"
      },
      "source": [
        "model.eval()\n",
        "dataiter=iter(testloader)\n",
        "images,labels=dataiter.next()\n",
        "img=images[0]\n",
        "imshow(img);\n",
        "print(img.shape)\n",
        "img=img.view(1,3072)\n",
        "\n",
        "with torch.no_grad():\n",
        "  output=model.forward(img)\n",
        "\n",
        "\n",
        "ps=torch.exp(output)\n",
        "view_classify(img.view(3,32,32),ps,version='CIFAR10')"
      ],
      "execution_count": 82,
      "outputs": [
        {
          "output_type": "stream",
          "text": [
            "torch.Size([3, 32, 32])\n"
          ],
          "name": "stdout"
        },
        {
          "output_type": "display_data",
          "data": {
            "image/png": "[encoded data removed]",
            "text/plain": [
              "<Figure size 432x288 with 1 Axes>"
            ]
          },
          "metadata": {
            "tags": [],
            "needs_background": "light"
          }
        },
        {
          "output_type": "display_data",
          "data": {
            "image/png": "[encoded data removed]",
            "text/plain": [
              "<Figure size 432x648 with 2 Axes>"
            ]
          },
          "metadata": {
            "tags": [],
            "needs_background": "light"
          }
        }
      ]
    }
  ]
}